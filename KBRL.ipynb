{
  "nbformat": 4,
  "nbformat_minor": 0,
  "metadata": {
    "colab": {
      "name": "KBRL.ipynb",
      "version": "0.3.2",
      "views": {},
      "default_view": {},
      "provenance": [],
      "collapsed_sections": []
    },
    "kernelspec": {
      "name": "python2",
      "display_name": "Python 2"
    }
  },
  "cells": [
    {
      "metadata": {
        "id": "UMkVAHGtpuka",
        "colab_type": "text"
      },
      "cell_type": "markdown",
      "source": [
        "## Track 2: Kernel-Based Reinforcement Learning\n",
        "### Rithesh Kumar (260848114)\n",
        "\n",
        "\n",
        "#### Summary of Kernel-based Reinforcement Learning\n",
        "1. These class of methods store $s' \\rightarrow g $ pairs in memory, where $s'$ is the state and $g$ is the update target (ex: value of the state). Whenever a value of query state $s$ is required, the value of the nearest example in memory is retrieved as the value of the query state.\n",
        "\n",
        "2. More concretely, KBRL uses kernel regression to compute the value of the query state as:\n",
        "$$ \\hat{v}(s, \\mathcal{D}) = \\sum_{s' \\in \\mathcal{D}} k(s, s')g(s') $$\n",
        "\n",
        "3. These update targets $g(s')$ can be **Monte-Carlo returns**, **TD-update target**, or **Expected Returns** $\\mathbb{E}[g[s']]$.\n",
        "\n",
        "4. In this work, i chose to use the **Expected Return** as the update targets (similar to the method proposed in KBRL - Ormoneit and Sen paper). \n",
        "\n",
        "#### Computing Expected Returns (Value function) for states in memory:\n",
        "1. We perform a **finite model approximation** of the continuous MDP, by sampling transitions from the continuous MDP, storing it in a memory, and build a discrete finite MDP solely composed of the states stored in memory.\n",
        "2. More concretely, we store sample transitions $S^a \\equiv \\{(s_k^a, r_k^a, \\hat{s}_k^a)\\ \\big\\vert \\ k = 1,2,...,n_a\\}$ associated with each action $a \\in A$. We also use the kernel function $k_\\tau(s, s')$ as the gaussian kernel, where $\\tau$ is the bandwidth parameter.\n",
        "$$ k_\\tau(s, s') = \\exp\\bigg( \\frac{||s-s'||^2}{\\tau} \\bigg) $$\n",
        "We thereby also define the normalized kernel function as:\n",
        "$$ k_\\tau^a(s, s_i^a) = \\frac{k_\\tau^a(s, s_i^a)}{\\sum_j k_\\tau(s, s_j^a)} $$\n",
        "3. Now, the approximate finite MDP can be fully specified as:\n",
        "$$\\begin{eqnarray}\n",
        "\\hat{P}^a\\big(\\hat{s}_i^b\\ \\big|\\ s\\big) &= \\begin{cases}\n",
        "k_\\tau^a(s, s_i^b), \\text{if } a = b\\\\\n",
        "0, otherwise\n",
        "\\end{cases}\\\\\n",
        "\\hat{R}^a\\big(\\hat{s}_i^b\\ \\big|\\ s\\big) &= \\begin{cases}\n",
        "r_i^a, \\text{if } a = b\\\\\n",
        "0, otherwise\n",
        "\\end{cases}\n",
        "\\end{eqnarray}$$\n",
        "\n",
        "4. Having defined the MDP, one can compute the optimal value function using **Dynamic Programming methods**. We specifically use **Value Iteration** in this work, to compute $\\hat{V}^*$.\n",
        "5. To compute the value of any state-action pair in the Continuous MDP (query), we can use the formula:\n",
        "$$\\hat{Q}(s, a) = \\sum_{i=1}^{n_a} k_\\tau^a(s, s_i^a) \\bigg[r_i^a + \\gamma \\hat{V}^*\\big(\\hat{s}_i^a\\big) \\bigg] $$\n",
        "\n",
        "#### Computational Complexity:\n",
        "* This section is needed in this report since there are significant computational overheads in non-parameteric methods such as **Nearest-Neighbour regression**.\n",
        "* The biggest computational overhead is induced by the computation of the transition probability matrix $p(s'\\ \\big|\\ s, a)$. The no. of states in the approximate finite mdp is: $\\hat{n} = \\sum_a n_a$. Therefore, the nearest-neighbour averaging on every pair of states induces a computational complexity of $\\mathcal{O} (\\hat{n}^2)$\n",
        "\n",
        "\n",
        "#### Evaluation Metric:\n",
        "* In this work, we plot the **total reward per episode**, and also print the total reward for a **baseline random policy**."
      ]
    },
    {
      "metadata": {
        "id": "o6pYU6v91CK7",
        "colab_type": "code",
        "colab": {
          "autoexec": {
            "startup": false,
            "wait_interval": 0
          },
          "output_extras": [
            {
              "item_id": 3
            }
          ],
          "base_uri": "https://localhost:8080/",
          "height": 204
        },
        "outputId": "f17860a3-a630-46f1-a8f4-518e33b42a0b",
        "executionInfo": {
          "status": "ok",
          "timestamp": 1521592105025,
          "user_tz": 240,
          "elapsed": 3925,
          "user": {
            "displayName": "Rithesh Kumar",
            "photoUrl": "//lh5.googleusercontent.com/-VGc2wPhGPi4/AAAAAAAAAAI/AAAAAAAAB6I/vpltgbrdB3w/s50-c-k-no/photo.jpg",
            "userId": "103541296802299572143"
          }
        }
      },
      "cell_type": "code",
      "source": [
        "!pip install gym\n",
        "!pip install tqdm"
      ],
      "execution_count": 1,
      "outputs": [
        {
          "output_type": "stream",
          "text": [
            "Requirement already satisfied: gym in /usr/local/lib/python2.7/dist-packages\r\n",
            "Requirement already satisfied: six in /usr/local/lib/python2.7/dist-packages (from gym)\r\n",
            "Requirement already satisfied: requests>=2.0 in /usr/local/lib/python2.7/dist-packages (from gym)\r\n",
            "Requirement already satisfied: pyglet>=1.2.0 in /usr/local/lib/python2.7/dist-packages (from gym)\r\n",
            "Requirement already satisfied: numpy>=1.10.4 in /usr/local/lib/python2.7/dist-packages (from gym)\r\n",
            "Requirement already satisfied: idna<2.7,>=2.5 in /usr/local/lib/python2.7/dist-packages (from requests>=2.0->gym)\n",
            "Requirement already satisfied: urllib3<1.23,>=1.21.1 in /usr/local/lib/python2.7/dist-packages (from requests>=2.0->gym)\n",
            "Requirement already satisfied: certifi>=2017.4.17 in /usr/local/lib/python2.7/dist-packages (from requests>=2.0->gym)\n",
            "Requirement already satisfied: chardet<3.1.0,>=3.0.2 in /usr/local/lib/python2.7/dist-packages (from requests>=2.0->gym)\n",
            "Requirement already satisfied: future in /usr/local/lib/python2.7/dist-packages (from pyglet>=1.2.0->gym)\n",
            "Requirement already satisfied: tqdm in /usr/local/lib/python2.7/dist-packages\n"
          ],
          "name": "stdout"
        }
      ]
    },
    {
      "metadata": {
        "id": "PfdjAJur07Fw",
        "colab_type": "code",
        "colab": {
          "autoexec": {
            "startup": false,
            "wait_interval": 0
          }
        }
      },
      "cell_type": "code",
      "source": [
        "import gym\n",
        "import numpy as np\n",
        "from copy import copy\n",
        "from tqdm import tqdm\n",
        "import matplotlib\n",
        "%matplotlib inline\n",
        "import matplotlib.pyplot as plt\n",
        "\n",
        "\n",
        "def softmax(x):\n",
        "    e_x = np.exp(x - np.max(x, axis=-1, keepdims=True))\n",
        "    return e_x / e_x.sum(-1, keepdims=True)\n",
        "\n",
        "\n",
        "def rbf(x, S, sum_axis=-1, bandwidth=1.):\n",
        "    dists = -np.sum((x - S)**2, axis=sum_axis) / bandwidth\n",
        "    return softmax(dists)"
      ],
      "execution_count": 0,
      "outputs": []
    },
    {
      "metadata": {
        "id": "xw6q4gOLeu72",
        "colab_type": "code",
        "colab": {
          "autoexec": {
            "startup": false,
            "wait_interval": 0
          }
        }
      },
      "cell_type": "code",
      "source": [
        "class KBRL(object):\n",
        "    def __init__(self, args):\n",
        "        self.n_actions = args['n_actions']\n",
        "        self.n_mem = args['n_mem']\n",
        "        self.state_dim = args['state_dim']\n",
        "        self.bandwidth = args['bandwidth']\n",
        "        self.gamma = args['gamma']\n",
        "        \n",
        "        self.s_mem = np.zeros((self.n_actions, self.n_mem, self.state_dim))\n",
        "        self.s_prime_mem = np.zeros((self.n_actions, self.n_mem, self.state_dim))\n",
        "        self.r_mem = np.zeros((self.n_actions, self.n_mem))\n",
        "        self.nt_mem = np.zeros((self.n_actions, self.n_mem)) # nt -> Not Terminal State mask\n",
        "        self.counts = np.zeros(self.n_actions).astype('int')\n",
        "\n",
        "    def reset(self):\n",
        "        self.nt_mem = np.ones((self.n_actions, self.n_mem))\n",
        "        self.counts = np.zeros(self.n_actions).astype('int')\n",
        "\n",
        "    def compute_mdp(self):\n",
        "        n_states_new = self.n_mem * self.n_actions\n",
        "        P_est = np.zeros(\n",
        "            (self.n_actions, n_states_new, n_states_new)  # (a, s, s')\n",
        "        ).astype('float32')\n",
        "\n",
        "        R_est = np.zeros(\n",
        "            (self.n_actions, n_states_new, n_states_new)  # (a, s, s')\n",
        "        ).astype('float32')\n",
        "\n",
        "        nt = self.nt_mem.reshape((-1))\n",
        "        s_prime = self.s_prime_mem.reshape((-1, self.state_dim, 1))\n",
        "\n",
        "        for i in xrange(self.n_actions):\n",
        "            start_idx = i * self.n_mem\n",
        "            end_idx = (i + 1) * self.n_mem\n",
        "\n",
        "            probs = rbf(\n",
        "                s_prime,\n",
        "                self.s_mem[i].T[None],\n",
        "                sum_axis=1,\n",
        "                bandwidth=self.bandwidth\n",
        "            )\n",
        "\n",
        "            P_est[i, :, start_idx:end_idx] = probs\n",
        "            R_est[i, :, start_idx:end_idx] = self.r_mem[i]\n",
        "\n",
        "        R_est = (P_est * R_est).sum(-1) # Expected Reward\n",
        "        self.MDP = (P_est, R_est, nt)\n",
        "\n",
        "    def value_iteration(self):\n",
        "        P, R, N = self.MDP\n",
        "        V = np.zeros(self.n_mem * self.n_actions).astype('float32')\n",
        "        count = 0\n",
        "        while True:\n",
        "            count += 1\n",
        "\n",
        "            val_s_prime = (N * V)[None, None, :]\n",
        "            Q = R + self.gamma * (P * val_s_prime).sum(-1)\n",
        "            new_V = Q.max(0)\n",
        "\n",
        "            delta = np.abs(new_V - V).max()\n",
        "            if count % 10 == 0:\n",
        "                print \"{}.) Delta: {}\".format(count, delta)\n",
        "            if delta < 0.01:\n",
        "                break\n",
        "            else:\n",
        "                V = new_V\n",
        "        print \"Converged at {} iters!\".format(count)\n",
        "        self.V = new_V\n",
        "\n",
        "    def get_action(self, s):\n",
        "        P, _, N = self.MDP\n",
        "        V = self.V\n",
        "        R = self.r_mem\n",
        "\n",
        "        q_vals = np.zeros(self.n_actions)\n",
        "        for i in xrange(self.n_actions):\n",
        "            start_idx = i * self.n_mem\n",
        "            end_idx = (i + 1) * self.n_mem\n",
        "\n",
        "            probs = rbf(s[None], self.s_mem[i], bandwidth=self.bandwidth)\n",
        "\n",
        "            Q = R[i] + (self.gamma * N * V)[start_idx: end_idx]\n",
        "            q_vals[i] = (probs * Q).sum()\n",
        "\n",
        "        return q_vals.argmax()\n",
        "        \n",
        "    def store_mem(self, s, a, r, s_prime, term):\n",
        "        self.s_mem[a, self.counts[a]] = s\n",
        "        self.s_prime_mem[a, self.counts[a]] = s_prime\n",
        "        self.r_mem[a, self.counts[a]] = r\n",
        "        self.nt_mem[a, self.counts[a]] = term\n",
        "        self.counts[a] = (self.counts[a] + 1) % self.n_mem\n"
      ],
      "execution_count": 0,
      "outputs": []
    },
    {
      "metadata": {
        "id": "gYacVGIu09WT",
        "colab_type": "code",
        "colab": {
          "autoexec": {
            "startup": false,
            "wait_interval": 0
          }
        }
      },
      "cell_type": "code",
      "source": [
        "def sample_transitions(env, args, model):\n",
        "    rewards = []\n",
        "    avg_reward = 0\n",
        "\n",
        "    s = env.reset()\n",
        "    for i in xrange(args['n_steps']):\n",
        "        a = np.random.choice(args['n_actions'])\n",
        "\n",
        "        s_prime, r, term, _ = env.step(a)\n",
        "        avg_reward += r\n",
        "        \n",
        "        model.store_mem(s, a, r, s_prime, int(term == False))\n",
        "\n",
        "        if term:\n",
        "            s = env.reset()\n",
        "            rewards.append(avg_reward)\n",
        "            avg_reward = 0\n",
        "        else:\n",
        "            s = copy(s_prime)\n",
        "\n",
        "    return np.mean(rewards)\n",
        "\n",
        "\n",
        "def play_game(env, args, model):\n",
        "    rewards = []\n",
        "    avg_reward = 0\n",
        "    n_episodes = 0\n",
        "\n",
        "    s = env.reset()\n",
        "    while n_episodes < 100:\n",
        "        a = model.get_action(s)\n",
        "        s, r, term, _ = env.step(a)\n",
        "\n",
        "        avg_reward += r\n",
        "        \n",
        "        if term:\n",
        "            s = env.reset()\n",
        "            rewards.append(avg_reward)\n",
        "            avg_reward = 0\n",
        "            n_episodes += 1\n",
        "            \n",
        "            if n_episodes % 25 == 0:\n",
        "                print \"{}% completed!\".format(n_episodes)\n",
        "\n",
        "    return rewards, np.mean(rewards)"
      ],
      "execution_count": 0,
      "outputs": []
    },
    {
      "metadata": {
        "id": "U--H3xm5eBsr",
        "colab_type": "code",
        "colab": {
          "autoexec": {
            "startup": false,
            "wait_interval": 0
          },
          "output_extras": [
            {
              "item_id": 1
            }
          ],
          "base_uri": "https://localhost:8080/",
          "height": 85
        },
        "outputId": "b71e6886-5688-4f50-91dd-477e845e9bde",
        "executionInfo": {
          "status": "ok",
          "timestamp": 1521588638940,
          "user_tz": 240,
          "elapsed": 263,
          "user": {
            "displayName": "Rithesh Kumar",
            "photoUrl": "//lh5.googleusercontent.com/-VGc2wPhGPi4/AAAAAAAAAAI/AAAAAAAAB6I/vpltgbrdB3w/s50-c-k-no/photo.jpg",
            "userId": "103541296802299572143"
          }
        }
      },
      "cell_type": "code",
      "source": [
        "np.random.seed(111)\n",
        "env = gym.make('CartPole-v1')\n",
        "env.seed(111)\n",
        "\n",
        "args = {\n",
        "    'n_actions': env.action_space.n,\n",
        "    'n_mem': 6000,\n",
        "    'gamma' : 0.95,\n",
        "    'bandwidth' : .01,\n",
        "    'state_dim': env.observation_space.shape[0]\n",
        "}\n",
        "args['n_steps'] = int(args['n_mem'] * args['n_actions'] * 2)\n",
        "\n",
        "print \"Environment: CartPole-v0\"\n",
        "print \"No. of actions = \", args['n_actions']\n",
        "print \"State space = \", args['state_dim']"
      ],
      "execution_count": 29,
      "outputs": [
        {
          "output_type": "stream",
          "text": [
            "\u001b[33mWARN: gym.spaces.Box autodetected dtype as <type 'numpy.float32'>. Please provide explicit dtype.\u001b[0m\n",
            "Environment: CartPole-v0\n",
            "No. of actions =  2\n",
            "State space =  4\n"
          ],
          "name": "stdout"
        }
      ]
    },
    {
      "metadata": {
        "id": "L1ClvlA7mXBj",
        "colab_type": "code",
        "colab": {
          "autoexec": {
            "startup": false,
            "wait_interval": 0
          },
          "output_extras": [
            {
              "item_id": 11
            }
          ],
          "base_uri": "https://localhost:8080/",
          "height": 238
        },
        "outputId": "49e80982-618f-42a3-f27c-645325fd6aaf",
        "executionInfo": {
          "status": "ok",
          "timestamp": 1521588740091,
          "user_tz": 240,
          "elapsed": 100479,
          "user": {
            "displayName": "Rithesh Kumar",
            "photoUrl": "//lh5.googleusercontent.com/-VGc2wPhGPi4/AAAAAAAAAAI/AAAAAAAAB6I/vpltgbrdB3w/s50-c-k-no/photo.jpg",
            "userId": "103541296802299572143"
          }
        }
      },
      "cell_type": "code",
      "source": [
        "model = KBRL(args)\n",
        "avg_reward = sample_transitions(env, args, model)\n",
        "print \"Baseline average reward: \", avg_reward\n",
        "print \"Approximating MDP!\"\n",
        "model.compute_mdp()\n",
        "print \"Starting Value Iteration...\"\n",
        "model.value_iteration()"
      ],
      "execution_count": 30,
      "outputs": [
        {
          "output_type": "stream",
          "text": [
            "Baseline average reward:  22.363466915191054\n",
            "Approximating MDP!\n",
            "Starting Value Iteration...\n",
            "10.) Delta: 0.630249598054\n",
            "20.) Delta: 0.377353807247\n",
            "30.) Delta: 0.22593572749\n",
            "40.) Delta: 0.135276104046\n",
            "50.) Delta: 0.0809948232134\n",
            "60.) Delta: 0.0484946061083\n",
            "70.) Delta: 0.029035520121\n",
            "80.) Delta: 0.0173846432718\n",
            "90.) Delta: 0.0104088309805\n",
            "Converged at 91 iters!\n"
          ],
          "name": "stdout"
        }
      ]
    },
    {
      "metadata": {
        "id": "U9rP1F0r1Kpy",
        "colab_type": "code",
        "colab": {
          "autoexec": {
            "startup": false,
            "wait_interval": 0
          },
          "output_extras": [
            {
              "item_id": 5
            },
            {
              "item_id": 6
            }
          ],
          "base_uri": "https://localhost:8080/",
          "height": 398
        },
        "outputId": "2db3835f-ff10-4a68-d19e-877a912f676e",
        "executionInfo": {
          "status": "ok",
          "timestamp": 1521589054124,
          "user_tz": 240,
          "elapsed": 31123,
          "user": {
            "displayName": "Rithesh Kumar",
            "photoUrl": "//lh5.googleusercontent.com/-VGc2wPhGPi4/AAAAAAAAAAI/AAAAAAAAB6I/vpltgbrdB3w/s50-c-k-no/photo.jpg",
            "userId": "103541296802299572143"
          }
        }
      },
      "cell_type": "code",
      "source": [
        "print \"Playing 100 games to test model!\"\n",
        "tot_reward, avg_reward = play_game(env, args, model)\n",
        "print \"Average reward using KBRL: \", avg_reward\n",
        "print \"Plotting reward...\"\n",
        "plt.plot(tot_reward)\n",
        "plt.xlabel(\"Time steps\")\n",
        "_ = plt.ylabel(\"Reward per episode\")"
      ],
      "execution_count": 31,
      "outputs": [
        {
          "output_type": "stream",
          "text": [
            "Playing 100 games to test model!\n",
            "25% completed!\n",
            "50% completed!\n",
            "75% completed!\n",
            "100% completed!\n",
            "Average reward using KBRL:  416.16\n",
            "Plotting reward...\n"
          ],
          "name": "stdout"
        },
        {
          "output_type": "display_data",
          "data": {
            "image/png": "[encoded data removed]",
            "text/plain": [
              "<matplotlib.figure.Figure at 0x7f2ef7762d10>"
            ]
          },
          "metadata": {
            "tags": []
          }
        }
      ]
    },
    {
      "metadata": {
        "id": "2d-DJdGrodqW",
        "colab_type": "code",
        "colab": {
          "autoexec": {
            "startup": false,
            "wait_interval": 0
          },
          "output_extras": [
            {
              "item_id": 1
            }
          ],
          "base_uri": "https://localhost:8080/",
          "height": 85
        },
        "outputId": "58b6f304-d7d5-4b08-ba17-56fb678a2632",
        "executionInfo": {
          "status": "ok",
          "timestamp": 1521594041756,
          "user_tz": 240,
          "elapsed": 448,
          "user": {
            "displayName": "Rithesh Kumar",
            "photoUrl": "//lh5.googleusercontent.com/-VGc2wPhGPi4/AAAAAAAAAAI/AAAAAAAAB6I/vpltgbrdB3w/s50-c-k-no/photo.jpg",
            "userId": "103541296802299572143"
          }
        }
      },
      "cell_type": "code",
      "source": [
        "np.random.seed(111)\n",
        "env = gym.make('Acrobot-v1')\n",
        "env.seed(111)\n",
        "\n",
        "args = {\n",
        "    'n_actions': env.action_space.n,\n",
        "    'n_mem': 5000,\n",
        "    'gamma' : 0.95,\n",
        "    'bandwidth' : .4,\n",
        "    'state_dim': env.observation_space.shape[0]\n",
        "}\n",
        "args['n_steps'] = int(args['n_mem'] * args['n_actions'] * 1.2)\n",
        "\n",
        "print \"Environment: Acrobot-v1\"\n",
        "print \"No. of actions = \", args['n_actions']\n",
        "print \"State space = \", args['state_dim']"
      ],
      "execution_count": 19,
      "outputs": [
        {
          "output_type": "stream",
          "text": [
            "\u001b[33mWARN: gym.spaces.Box autodetected dtype as <type 'numpy.float32'>. Please provide explicit dtype.\u001b[0m\n",
            "Environment: Acrobot-v1\n",
            "No. of actions =  3\n",
            "State space =  6\n"
          ],
          "name": "stdout"
        }
      ]
    },
    {
      "metadata": {
        "id": "uXbT7f9Vulwy",
        "colab_type": "code",
        "colab": {
          "autoexec": {
            "startup": false,
            "wait_interval": 0
          },
          "output_extras": [
            {
              "item_id": 15
            },
            {
              "item_id": 16
            }
          ],
          "base_uri": "https://localhost:8080/",
          "height": 602
        },
        "outputId": "1d0cbabf-d06b-4a0c-8825-dd5fc3f952fd",
        "executionInfo": {
          "status": "ok",
          "timestamp": 1521594281946,
          "user_tz": 240,
          "elapsed": 239692,
          "user": {
            "displayName": "Rithesh Kumar",
            "photoUrl": "//lh5.googleusercontent.com/-VGc2wPhGPi4/AAAAAAAAAAI/AAAAAAAAB6I/vpltgbrdB3w/s50-c-k-no/photo.jpg",
            "userId": "103541296802299572143"
          }
        }
      },
      "cell_type": "code",
      "source": [
        "model = KBRL(args)\n",
        "avg_reward = sample_transitions(env, args, model)\n",
        "print \"Baseline average reward: \", avg_reward\n",
        "print \"Approximating MDP!\"\n",
        "model.compute_mdp()\n",
        "print \"Starting Value Iteration...\"\n",
        "model.value_iteration()\n",
        "\n",
        "print \"Playing 100 games to test model!\"\n",
        "tot_reward, avg_reward = play_game(env, args, model)\n",
        "print \"Average reward using KBRL: \", avg_reward\n",
        "print \"Plotting reward...\"\n",
        "plt.plot(tot_reward)\n",
        "plt.xlabel(\"Time steps\")\n",
        "_ = plt.ylabel(\"Reward per episode\")"
      ],
      "execution_count": 20,
      "outputs": [
        {
          "output_type": "stream",
          "text": [
            "Baseline average reward:  -500.0\n",
            "Approximating MDP!\n",
            "Starting Value Iteration...\n",
            "10.) Delta: 0.622275704551\n",
            "20.) Delta: 0.363988884838\n",
            "30.) Delta: 0.21282416736\n",
            "40.) Delta: 0.124428575031\n",
            "50.) Delta: 0.0727448002506\n",
            "60.) Delta: 0.0425282605661\n",
            "70.) Delta: 0.0248627594828\n",
            "80.) Delta: 0.0145351620414\n",
            "Converged at 87 iters!\n",
            "Playing 100 games to test model!\n",
            "25% completed!\n",
            "50% completed!\n",
            "75% completed!\n",
            "100% completed!\n",
            "Average reward using KBRL:  -171.05\n",
            "Plotting reward...\n"
          ],
          "name": "stdout"
        },
        {
          "output_type": "display_data",
          "data": {
            "image/png": "[encoded data removed]",
            "text/plain": [
              "<matplotlib.figure.Figure at 0x7f0c5ab04e90>"
            ]
          },
          "metadata": {
            "tags": []
          }
        }
      ]
    },
    {
      "metadata": {
        "id": "OVq9IasTus9I",
        "colab_type": "code",
        "colab": {
          "autoexec": {
            "startup": false,
            "wait_interval": 0
          }
        }
      },
      "cell_type": "code",
      "source": [
        ""
      ],
      "execution_count": 0,
      "outputs": []
    }
  ]
}