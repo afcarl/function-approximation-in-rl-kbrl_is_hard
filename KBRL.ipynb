{
 "cells": [
  {
   "cell_type": "markdown",
   "metadata": {
    "colab_type": "text",
    "id": "UMkVAHGtpuka"
   },
   "source": [
    "## Track 2: Kernel-Based Reinforcement Learning\n",
    "### Rithesh Kumar (260848114)\n",
    "\n",
    "\n",
    "#### Summary of Kernel-based Reinforcement Learning\n",
    "1. These class of methods store $s' \\rightarrow g $ pairs in memory, where $s'$ is the state and $g$ is the update target (ex: value of the state). Whenever a value of query state $s$ is required, the value of the nearest example in memory is retrieved as the value of the query state.\n",
    "\n",
    "2. More concretely, KBRL uses kernel regression to compute the value of the query state as:\n",
    "$$ \\hat{v}(s, \\mathcal{D}) = \\sum_{s' \\in \\mathcal{D}} k(s, s')g(s') $$\n",
    "\n",
    "3. These update targets $g(s')$ can be **Monte-Carlo returns**, **TD-update target**, or **Expected Returns** $\\mathbb{E}[g[s']]$.\n",
    "\n",
    "4. In this work, i chose to use the **Expected Return** as the update targets (similar to the method proposed in KBRL - Ormoneit and Sen paper). \n",
    "\n",
    "#### Computing Expected Returns (Value function) for states in memory:\n",
    "1. We perform a **finite model approximation** of the continuous MDP, by sampling transitions from the continuous MDP, storing it in a memory, and build a discrete finite MDP solely composed of the states stored in memory.\n",
    "2. More concretely, we store sample transitions $S^a \\equiv \\{(s_k^a, r_k^a, \\hat{s}_k^a)\\ \\big\\vert \\ k = 1,2,...,n_a\\}$ associated with each action $a \\in A$. We also use the kernel function $k_\\tau(s, s')$ as the gaussian kernel, where $\\tau$ is the bandwidth parameter.\n",
    "$$ k_\\tau(s, s') = \\exp\\bigg( \\frac{||s-s'||^2}{\\tau} \\bigg) $$\n",
    "We thereby also define the normalized kernel function as:\n",
    "$$ k_\\tau^a(s, s_i^a) = \\frac{k_\\tau^a(s, s_i^a)}{\\sum_j k_\\tau(s, s_j^a)} $$\n",
    "3. Now, the approximate finite MDP can be fully specified as:\n",
    "$$\\begin{eqnarray}\n",
    "\\hat{P}^a\\big(\\hat{s}_i^b\\ \\big|\\ s\\big) &= \\begin{cases}\n",
    "k_\\tau^a(s, s_i^b), \\text{if } a = b\\\\\n",
    "0, otherwise\n",
    "\\end{cases}\\\\\n",
    "\\hat{R}^a\\big(\\hat{s}_i^b\\ \\big|\\ s\\big) &= \\begin{cases}\n",
    "r_i^a, \\text{if } a = b\\\\\n",
    "0, otherwise\n",
    "\\end{cases}\n",
    "\\end{eqnarray}$$\n",
    "\n",
    "4. Having defined the MDP, one can compute the optimal value function using **Dynamic Programming methods**. We specifically use **Value Iteration** in this work, to compute $\\hat{V}^*$.\n",
    "5. To compute the value of any state-action pair in the Continuous MDP (query), we can use the formula:\n",
    "$$\\hat{Q}(s, a) = \\sum_{i=1}^{n_a} k_\\tau^a(s, s_i^a) \\bigg[r_i^a + \\gamma \\hat{V}^*\\big(\\hat{s}_i^a\\big) \\bigg] $$\n",
    "\n",
    "#### Computational Complexity:\n",
    "* This section is needed in this report since there are significant computational overheads in non-parameteric methods such as **Nearest-Neighbour regression**.\n",
    "* The biggest computational overhead is induced by the computation of the transition probability matrix $p(s'\\ \\big|\\ s, a)$. The no. of states in the approximate finite mdp is: $\\hat{n} = \\sum_a n_a$. Therefore, the nearest-neighbour averaging on every pair of states induces a computational complexity of $\\mathcal{O} (\\hat{n}^2)$\n",
    "\n",
    "\n",
    "#### Evaluation Metric:\n",
    "* In this work, we plot the **total reward per episode**, and also print the total reward for a **baseline random policy**."
   ]
  },
  {
   "cell_type": "code",
   "execution_count": 13,
   "metadata": {
    "colab": {
     "autoexec": {
      "startup": false,
      "wait_interval": 0
     },
     "base_uri": "https://localhost:8080/",
     "height": 204,
     "output_extras": [
      {
       "item_id": 3
      }
     ]
    },
    "colab_type": "code",
    "executionInfo": {
     "elapsed": 3731,
     "status": "ok",
     "timestamp": 1521636843057,
     "user": {
      "displayName": "Rithesh Kumar",
      "photoUrl": "//lh5.googleusercontent.com/-VGc2wPhGPi4/AAAAAAAAAAI/AAAAAAAAB6I/vpltgbrdB3w/s50-c-k-no/photo.jpg",
      "userId": "103541296802299572143"
     },
     "user_tz": 240
    },
    "id": "o6pYU6v91CK7",
    "outputId": "52eae10f-845f-45ac-e04a-45a93b2074a7"
   },
   "outputs": [
    {
     "name": "stdout",
     "output_type": "stream",
     "text": [
      "Requirement already satisfied: gym in /Users/rithesh/anaconda/lib/python2.7/site-packages\n",
      "Requirement already satisfied: numpy>=1.10.4 in /Users/rithesh/anaconda/lib/python2.7/site-packages (from gym)\n",
      "Requirement already satisfied: pyglet>=1.2.0 in /Users/rithesh/anaconda/lib/python2.7/site-packages (from gym)\n",
      "Requirement already satisfied: requests>=2.0 in /Users/rithesh/anaconda/lib/python2.7/site-packages (from gym)\n",
      "Requirement already satisfied: six in /Users/rithesh/anaconda/lib/python2.7/site-packages (from gym)\n",
      "Requirement already satisfied: future in /Users/rithesh/anaconda/lib/python2.7/site-packages (from pyglet>=1.2.0->gym)\n",
      "\u001b[33mYou are using pip version 9.0.1, however version 9.0.3 is available.\n",
      "You should consider upgrading via the 'pip install --upgrade pip' command.\u001b[0m\n",
      "Requirement already satisfied: tqdm in /Users/rithesh/anaconda/lib/python2.7/site-packages\n",
      "\u001b[33mYou are using pip version 9.0.1, however version 9.0.3 is available.\n",
      "You should consider upgrading via the 'pip install --upgrade pip' command.\u001b[0m\n",
      "Requirement already satisfied: imageio in /Users/rithesh/anaconda/lib/python2.7/site-packages\n",
      "Requirement already satisfied: pillow in /Users/rithesh/anaconda/lib/python2.7/site-packages (from imageio)\n",
      "Requirement already satisfied: numpy in /Users/rithesh/anaconda/lib/python2.7/site-packages (from imageio)\n",
      "Requirement already satisfied: olefile in /Users/rithesh/anaconda/lib/python2.7/site-packages (from pillow->imageio)\n",
      "\u001b[33mYou are using pip version 9.0.1, however version 9.0.3 is available.\n",
      "You should consider upgrading via the 'pip install --upgrade pip' command.\u001b[0m\n"
     ]
    }
   ],
   "source": [
    "!pip install gym\n",
    "!pip install tqdm\n",
    "!pip install imageio"
   ]
  },
  {
   "cell_type": "code",
   "execution_count": 14,
   "metadata": {
    "colab": {
     "autoexec": {
      "startup": false,
      "wait_interval": 0
     }
    },
    "colab_type": "code",
    "collapsed": true,
    "id": "PfdjAJur07Fw"
   },
   "outputs": [],
   "source": [
    "import gym\n",
    "import numpy as np\n",
    "from copy import copy\n",
    "from tqdm import tqdm\n",
    "import matplotlib\n",
    "%matplotlib inline\n",
    "import matplotlib.pyplot as plt\n",
    "import imageio\n",
    "from IPython.display import Image\n",
    "\n",
    "\n",
    "def softmax(x):\n",
    "    e_x = np.exp(x - np.max(x, axis=-1, keepdims=True))\n",
    "    return e_x / e_x.sum(-1, keepdims=True)\n",
    "\n",
    "\n",
    "def rbf(x, S, sum_axis=-1, bandwidth=1.):\n",
    "    dists = -np.sum((x - S)**2, axis=sum_axis) / bandwidth\n",
    "    return softmax(dists)"
   ]
  },
  {
   "cell_type": "code",
   "execution_count": 2,
   "metadata": {
    "colab": {
     "autoexec": {
      "startup": false,
      "wait_interval": 0
     }
    },
    "colab_type": "code",
    "collapsed": true,
    "id": "xw6q4gOLeu72"
   },
   "outputs": [],
   "source": [
    "class KBRL(object):\n",
    "    def __init__(self, args):\n",
    "        self.n_actions = args['n_actions']\n",
    "        self.n_mem = args['n_mem']\n",
    "        self.state_dim = args['state_dim']\n",
    "        self.bandwidth = args['bandwidth']\n",
    "        self.gamma = args['gamma']\n",
    "        \n",
    "        self.s_mem = np.zeros((self.n_actions, self.n_mem, self.state_dim))\n",
    "        self.s_prime_mem = np.zeros((self.n_actions, self.n_mem, self.state_dim))\n",
    "        self.r_mem = np.zeros((self.n_actions, self.n_mem))\n",
    "        self.nt_mem = np.zeros((self.n_actions, self.n_mem)) # nt -> Not Terminal State mask\n",
    "        self.counts = np.zeros(self.n_actions).astype('int')\n",
    "\n",
    "    def reset(self):\n",
    "        self.nt_mem = np.ones((self.n_actions, self.n_mem))\n",
    "        self.counts = np.zeros(self.n_actions).astype('int')\n",
    "\n",
    "    def compute_mdp(self):\n",
    "        n_states_new = self.n_mem * self.n_actions\n",
    "        P_est = np.zeros(\n",
    "            (self.n_actions, n_states_new, n_states_new)  # (a, s, s')\n",
    "        ).astype('float32')\n",
    "\n",
    "        R_est = np.zeros(\n",
    "            (self.n_actions, n_states_new, n_states_new)  # (a, s, s')\n",
    "        ).astype('float32')\n",
    "\n",
    "        nt = self.nt_mem.reshape((-1))\n",
    "        s_prime = self.s_prime_mem.reshape((-1, self.state_dim, 1))\n",
    "\n",
    "        for i in xrange(self.n_actions):\n",
    "            start_idx = i * self.n_mem\n",
    "            end_idx = (i + 1) * self.n_mem\n",
    "\n",
    "            probs = rbf(\n",
    "                s_prime,\n",
    "                self.s_mem[i].T[None],\n",
    "                sum_axis=1,\n",
    "                bandwidth=self.bandwidth\n",
    "            )\n",
    "\n",
    "            P_est[i, :, start_idx:end_idx] = probs\n",
    "            R_est[i, :, start_idx:end_idx] = self.r_mem[i]\n",
    "\n",
    "        R_est = (P_est * R_est).sum(-1) # Expected Reward\n",
    "        self.MDP = (P_est, R_est, nt)\n",
    "\n",
    "    def value_iteration(self):\n",
    "        P, R, N = self.MDP\n",
    "        V = np.zeros(self.n_mem * self.n_actions).astype('float32')\n",
    "        count = 0\n",
    "        while True:\n",
    "            count += 1\n",
    "\n",
    "            val_s_prime = (N * V)[None, None, :]\n",
    "            Q = R + self.gamma * (P * val_s_prime).sum(-1)\n",
    "            new_V = Q.max(0)\n",
    "\n",
    "            delta = np.abs(new_V - V).max()\n",
    "            if count % 10 == 0:\n",
    "                print \"{}.) Delta: {}\".format(count, delta)\n",
    "            if delta < 0.01:\n",
    "                break\n",
    "            else:\n",
    "                V = new_V\n",
    "        print \"Converged at {} iters!\".format(count)\n",
    "        self.V = new_V\n",
    "\n",
    "    def get_action(self, s):\n",
    "        P, _, N = self.MDP\n",
    "        V = self.V\n",
    "        R = self.r_mem\n",
    "\n",
    "        q_vals = np.zeros(self.n_actions)\n",
    "        for i in xrange(self.n_actions):\n",
    "            start_idx = i * self.n_mem\n",
    "            end_idx = (i + 1) * self.n_mem\n",
    "\n",
    "            probs = rbf(s[None], self.s_mem[i], bandwidth=self.bandwidth)\n",
    "\n",
    "            Q = R[i] + (self.gamma * N * V)[start_idx: end_idx]\n",
    "            q_vals[i] = (probs * Q).sum()\n",
    "\n",
    "        return q_vals.argmax()\n",
    "        \n",
    "    def store_mem(self, s, a, r, s_prime, term):\n",
    "        self.s_mem[a, self.counts[a]] = s\n",
    "        self.s_prime_mem[a, self.counts[a]] = s_prime\n",
    "        self.r_mem[a, self.counts[a]] = r\n",
    "        self.nt_mem[a, self.counts[a]] = term\n",
    "        self.counts[a] = (self.counts[a] + 1) % self.n_mem\n"
   ]
  },
  {
   "cell_type": "code",
   "execution_count": 41,
   "metadata": {
    "colab": {
     "autoexec": {
      "startup": false,
      "wait_interval": 0
     }
    },
    "colab_type": "code",
    "collapsed": true,
    "id": "gYacVGIu09WT"
   },
   "outputs": [],
   "source": [
    "def sample_transitions(env, args, model):\n",
    "    rewards = []\n",
    "    avg_reward = 0\n",
    "\n",
    "    s = env.reset()\n",
    "    for i in xrange(args['n_steps']):\n",
    "        a = np.random.choice(args['n_actions'])\n",
    "\n",
    "        s_prime, r, term, _ = env.step(a)\n",
    "        avg_reward += r\n",
    "        \n",
    "        model.store_mem(s, a, r, s_prime, int(term == False))\n",
    "\n",
    "        if term:\n",
    "            s = env.reset()\n",
    "            rewards.append(avg_reward)\n",
    "            avg_reward = 0\n",
    "        else:\n",
    "            s = copy(s_prime)\n",
    "\n",
    "    return np.mean(rewards)\n",
    "\n",
    "\n",
    "def play_game(env, args, model):\n",
    "    rewards = []\n",
    "    avg_reward = 0\n",
    "    n_episodes = 0\n",
    "\n",
    "    s = env.reset()\n",
    "    while n_episodes < 100:\n",
    "        a = model.get_action(s)\n",
    "        s, r, term, _ = env.step(a)\n",
    "\n",
    "        avg_reward += r\n",
    "        \n",
    "        if term:\n",
    "            s = env.reset()\n",
    "            rewards.append(avg_reward)\n",
    "            avg_reward = 0\n",
    "            n_episodes += 1\n",
    "            \n",
    "            if n_episodes % 25 == 0:\n",
    "                print \"{}% completed!\".format(n_episodes)\n",
    "\n",
    "    return rewards, np.mean(rewards)\n",
    "\n",
    "\n",
    "def save_game_gif(name, fps, env, args, model, max_steps=1000):\n",
    "    frames = []\n",
    "    s = env.reset()\n",
    "    frames.append(env.render(mode='rgb_array'))\n",
    "    for i in xrange(max_steps):\n",
    "        a = model.get_action(s)\n",
    "        s, r, term, _ = env.step(a)\n",
    "        frames.append(env.render(mode='rgb_array'))\n",
    "        if term:\n",
    "            s = env.reset()\n",
    "    imageio.mimsave(name+'.gif', frames, fps=50)"
   ]
  },
  {
   "cell_type": "code",
   "execution_count": 4,
   "metadata": {
    "colab": {
     "autoexec": {
      "startup": false,
      "wait_interval": 0
     },
     "base_uri": "https://localhost:8080/",
     "height": 85,
     "output_extras": [
      {
       "item_id": 1
      }
     ]
    },
    "colab_type": "code",
    "executionInfo": {
     "elapsed": 263,
     "status": "ok",
     "timestamp": 1521588638940,
     "user": {
      "displayName": "Rithesh Kumar",
      "photoUrl": "//lh5.googleusercontent.com/-VGc2wPhGPi4/AAAAAAAAAAI/AAAAAAAAB6I/vpltgbrdB3w/s50-c-k-no/photo.jpg",
      "userId": "103541296802299572143"
     },
     "user_tz": 240
    },
    "id": "U--H3xm5eBsr",
    "outputId": "b71e6886-5688-4f50-91dd-477e845e9bde"
   },
   "outputs": [
    {
     "name": "stdout",
     "output_type": "stream",
     "text": [
      "\u001b[33mWARN: gym.spaces.Box autodetected dtype as <type 'numpy.float32'>. Please provide explicit dtype.\u001b[0m\n",
      "Environment: CartPole-v0\n",
      "No. of actions =  2\n",
      "State space =  4\n"
     ]
    }
   ],
   "source": [
    "np.random.seed(111)\n",
    "env = gym.make('CartPole-v1')\n",
    "env.seed(111)\n",
    "\n",
    "args = {\n",
    "    'n_actions': env.action_space.n,\n",
    "    'n_mem': 6000,\n",
    "    'gamma' : 0.95,\n",
    "    'bandwidth' : .01,\n",
    "    'state_dim': env.observation_space.shape[0]\n",
    "}\n",
    "args['n_steps'] = int(args['n_mem'] * args['n_actions'] * 2)\n",
    "\n",
    "print \"Environment: CartPole-v0\"\n",
    "print \"No. of actions = \", args['n_actions']\n",
    "print \"State space = \", args['state_dim']"
   ]
  },
  {
   "cell_type": "code",
   "execution_count": 5,
   "metadata": {
    "colab": {
     "autoexec": {
      "startup": false,
      "wait_interval": 0
     },
     "base_uri": "https://localhost:8080/",
     "height": 238,
     "output_extras": [
      {
       "item_id": 11
      }
     ]
    },
    "colab_type": "code",
    "executionInfo": {
     "elapsed": 100479,
     "status": "ok",
     "timestamp": 1521588740091,
     "user": {
      "displayName": "Rithesh Kumar",
      "photoUrl": "//lh5.googleusercontent.com/-VGc2wPhGPi4/AAAAAAAAAAI/AAAAAAAAB6I/vpltgbrdB3w/s50-c-k-no/photo.jpg",
      "userId": "103541296802299572143"
     },
     "user_tz": 240
    },
    "id": "L1ClvlA7mXBj",
    "outputId": "49e80982-618f-42a3-f27c-645325fd6aaf"
   },
   "outputs": [
    {
     "name": "stdout",
     "output_type": "stream",
     "text": [
      "Baseline average reward:  22.3634669152\n",
      "Approximating MDP!\n",
      "Starting Value Iteration...\n",
      "10.) Delta: 0.630249598054\n",
      "20.) Delta: 0.377353807247\n",
      "30.) Delta: 0.22593572749\n",
      "40.) Delta: 0.135276104046\n",
      "50.) Delta: 0.0809948232134\n",
      "60.) Delta: 0.0484946061083\n",
      "70.) Delta: 0.029035520121\n",
      "80.) Delta: 0.0173846432718\n",
      "90.) Delta: 0.0104088309805\n",
      "Converged at 91 iters!\n"
     ]
    }
   ],
   "source": [
    "model = KBRL(args)\n",
    "avg_reward = sample_transitions(env, args, model)\n",
    "print \"Baseline average reward: \", avg_reward\n",
    "print \"Approximating MDP!\"\n",
    "model.compute_mdp()\n",
    "print \"Starting Value Iteration...\"\n",
    "model.value_iteration()"
   ]
  },
  {
   "cell_type": "code",
   "execution_count": 7,
   "metadata": {
    "colab": {
     "autoexec": {
      "startup": false,
      "wait_interval": 0
     },
     "base_uri": "https://localhost:8080/",
     "height": 398,
     "output_extras": [
      {
       "item_id": 5
      },
      {
       "item_id": 6
      }
     ]
    },
    "colab_type": "code",
    "executionInfo": {
     "elapsed": 31123,
     "status": "ok",
     "timestamp": 1521589054124,
     "user": {
      "displayName": "Rithesh Kumar",
      "photoUrl": "//lh5.googleusercontent.com/-VGc2wPhGPi4/AAAAAAAAAAI/AAAAAAAAB6I/vpltgbrdB3w/s50-c-k-no/photo.jpg",
      "userId": "103541296802299572143"
     },
     "user_tz": 240
    },
    "id": "U9rP1F0r1Kpy",
    "outputId": "2db3835f-ff10-4a68-d19e-877a912f676e"
   },
   "outputs": [
    {
     "name": "stdout",
     "output_type": "stream",
     "text": [
      "Playing 100 games to test model!\n",
      "25% completed!\n",
      "50% completed!\n",
      "75% completed!\n",
      "100% completed!\n",
      "Average reward using KBRL:  416.16\n",
      "Plotting reward...\n"
     ]
    },
    {
     "data": {
      "image/png": "[encoded data removed]",
      "text/plain": [
       "<matplotlib.figure.Figure at 0x10ba58e50>"
      ]
     },
     "metadata": {},
     "output_type": "display_data"
    }
   ],
   "source": [
    "print \"Playing 100 games to test model!\"\n",
    "tot_reward, avg_reward = play_game(env, args, model)\n",
    "print \"Average reward using KBRL: \", avg_reward\n",
    "print \"Plotting reward...\"\n",
    "plt.plot(tot_reward)\n",
    "plt.xlabel(\"Time steps\")\n",
    "_ = plt.ylabel(\"Reward per episode\")"
   ]
  },
  {
   "cell_type": "code",
   "execution_count": 35,
   "metadata": {
    "collapsed": true
   },
   "outputs": [],
   "source": [
    "save_game_gif('cartpole', env, args, model)"
   ]
  },
  {
   "cell_type": "markdown",
   "metadata": {},
   "source": [
    "# Sample Gameplay\n",
    "![cartpole](cartpole.gif \"cartpole\")"
   ]
  },
  {
   "cell_type": "code",
   "execution_count": 36,
   "metadata": {
    "colab": {
     "autoexec": {
      "startup": false,
      "wait_interval": 0
     },
     "base_uri": "https://localhost:8080/",
     "height": 85,
     "output_extras": [
      {
       "item_id": 1
      }
     ]
    },
    "colab_type": "code",
    "executionInfo": {
     "elapsed": 267,
     "status": "ok",
     "timestamp": 1521636845451,
     "user": {
      "displayName": "Rithesh Kumar",
      "photoUrl": "//lh5.googleusercontent.com/-VGc2wPhGPi4/AAAAAAAAAAI/AAAAAAAAB6I/vpltgbrdB3w/s50-c-k-no/photo.jpg",
      "userId": "103541296802299572143"
     },
     "user_tz": 240
    },
    "id": "2d-DJdGrodqW",
    "outputId": "a11d558c-67e5-45ce-eb99-f5fa6da21544"
   },
   "outputs": [
    {
     "name": "stdout",
     "output_type": "stream",
     "text": [
      "\u001b[33mWARN: gym.spaces.Box autodetected dtype as <type 'numpy.float32'>. Please provide explicit dtype.\u001b[0m\n",
      "Environment: Acrobot-v1\n",
      "No. of actions =  3\n",
      "State space =  6\n"
     ]
    }
   ],
   "source": [
    "np.random.seed(111)\n",
    "env = gym.make('Acrobot-v1')\n",
    "env.seed(111)\n",
    "\n",
    "args = {\n",
    "    'n_actions': env.action_space.n,\n",
    "    'n_mem': 5000,\n",
    "    'gamma' : 0.95,\n",
    "    'bandwidth' : .4,\n",
    "    'state_dim': env.observation_space.shape[0]\n",
    "}\n",
    "args['n_steps'] = int(args['n_mem'] * args['n_actions'] * 1.2)\n",
    "\n",
    "print \"Environment: Acrobot-v1\"\n",
    "print \"No. of actions = \", args['n_actions']\n",
    "print \"State space = \", args['state_dim']"
   ]
  },
  {
   "cell_type": "code",
   "execution_count": 37,
   "metadata": {
    "colab": {
     "autoexec": {
      "startup": false,
      "wait_interval": 0
     },
     "base_uri": "https://localhost:8080/",
     "height": 602,
     "output_extras": [
      {
       "item_id": 15
      },
      {
       "item_id": 16
      }
     ]
    },
    "colab_type": "code",
    "executionInfo": {
     "elapsed": 252981,
     "status": "ok",
     "timestamp": 1521637098488,
     "user": {
      "displayName": "Rithesh Kumar",
      "photoUrl": "//lh5.googleusercontent.com/-VGc2wPhGPi4/AAAAAAAAAAI/AAAAAAAAB6I/vpltgbrdB3w/s50-c-k-no/photo.jpg",
      "userId": "103541296802299572143"
     },
     "user_tz": 240
    },
    "id": "uXbT7f9Vulwy",
    "outputId": "ed7e2ed2-7f49-4ee8-ba59-9381611ee126"
   },
   "outputs": [
    {
     "name": "stdout",
     "output_type": "stream",
     "text": [
      "Baseline average reward:  -500.0\n",
      "Approximating MDP!\n",
      "Starting Value Iteration...\n",
      "10.) Delta: 0.622275704558\n",
      "20.) Delta: 0.363988884834\n",
      "30.) Delta: 0.21282416735\n",
      "40.) Delta: 0.124428575023\n",
      "50.) Delta: 0.0727448002432\n",
      "60.) Delta: 0.0425282605602\n",
      "70.) Delta: 0.0248627594782\n",
      "80.) Delta: 0.0145351620382\n",
      "Converged at 87 iters!\n",
      "Playing 100 games to test model!\n",
      "25% completed!\n",
      "50% completed!\n",
      "75% completed!\n",
      "100% completed!\n",
      "Average reward using KBRL:  -171.05\n",
      "Plotting reward...\n"
     ]
    },
    {
     "data": {
      "image/png": "[encoded data removed]",
      "text/plain": [
       "<matplotlib.figure.Figure at 0x10d8ecb10>"
      ]
     },
     "metadata": {},
     "output_type": "display_data"
    }
   ],
   "source": [
    "model = KBRL(args)\n",
    "avg_reward = sample_transitions(env, args, model)\n",
    "print \"Baseline average reward: \", avg_reward\n",
    "print \"Approximating MDP!\"\n",
    "model.compute_mdp()\n",
    "print \"Starting Value Iteration...\"\n",
    "model.value_iteration()\n",
    "\n",
    "print \"Playing 100 games to test model!\"\n",
    "tot_reward, avg_reward = play_game(env, args, model)\n",
    "print \"Average reward using KBRL: \", avg_reward\n",
    "print \"Plotting reward...\"\n",
    "plt.plot(tot_reward)\n",
    "plt.xlabel(\"Time steps\")\n",
    "_ = plt.ylabel(\"Reward per episode\")"
   ]
  },
  {
   "cell_type": "code",
   "execution_count": 42,
   "metadata": {
    "collapsed": true
   },
   "outputs": [],
   "source": [
    "save_game_gif('acrobot', 15, env, args, model)"
   ]
  },
  {
   "cell_type": "markdown",
   "metadata": {},
   "source": [
    "# Sample Gameplay\n",
    "![acrobot](acrobot.gif \"acrobot\")"
   ]
  }
 ],
 "metadata": {
  "colab": {
   "collapsed_sections": [],
   "default_view": {},
   "name": "KBRL.ipynb",
   "provenance": [],
   "version": "0.3.2",
   "views": {}
  },
  "hide_input": false,
  "kernelspec": {
   "display_name": "Python 2",
   "language": "python",
   "name": "python2"
  },
  "language_info": {
   "codemirror_mode": {
    "name": "ipython",
    "version": 2
   },
   "file_extension": ".py",
   "mimetype": "text/x-python",
   "name": "python",
   "nbconvert_exporter": "python",
   "pygments_lexer": "ipython2",
   "version": "2.7.13"
  }
 },
 "nbformat": 4,
 "nbformat_minor": 1
}
